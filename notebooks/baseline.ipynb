{
 "cells": [
  {
   "cell_type": "code",
   "execution_count": 83,
   "metadata": {},
   "outputs": [],
   "source": [
    "import sys\n",
    "sys.path.append('..')\n",
    "import copy\n",
    "import os\n",
    "import numpy as np\n",
    "import torch\n",
    "import matplotlib.pyplot as plt\n",
    "import tqdm\n",
    "\n",
    "import utils\n",
    "\n",
    "device= torch.device('cuda' if torch.cuda.is_available() else 'cpu')"
   ]
  },
  {
   "cell_type": "markdown",
   "metadata": {},
   "source": [
    "### Set Base Path: your zip file should be unzipped here"
   ]
  },
  {
   "cell_type": "code",
   "execution_count": 30,
   "metadata": {},
   "outputs": [],
   "source": [
    "base_path=\"../data/markov_mixture/final_v1/\""
   ]
  },
  {
   "cell_type": "markdown",
   "metadata": {},
   "source": [
    "### Set parameters"
   ]
  },
  {
   "cell_type": "code",
   "execution_count": null,
   "metadata": {},
   "outputs": [],
   "source": [
    "n=64 #[4,8,16,32,64,128,256,512,1024,2048]\n",
    "test_seed=415143"
   ]
  },
  {
   "cell_type": "code",
   "execution_count": null,
   "metadata": {},
   "outputs": [],
   "source": [
    "exp_dir=os.path.join(base_path,f\"default_long_rope_only/default_long_rope_only/n={n}\")\n",
    "config_file=os.path.join(exp_dir,\"config.yaml\")\n",
    "config=utils.load_config(config_file)\n",
    "config[\"num_workers\"]=1\n",
    "k=config[\"data_params\"][\"ks\"][0]"
   ]
  },
  {
   "cell_type": "markdown",
   "metadata": {},
   "source": [
    "### Make dataloaders"
   ]
  },
  {
   "cell_type": "code",
   "execution_count": null,
   "metadata": {},
   "outputs": [],
   "source": [
    "#In distribution dataloader\n",
    "dl_ID=utils.get_dataloader(config)\n",
    "\n",
    "#Out of distribution dataloader\n",
    "config_ood=copy.deepcopy(config)\n",
    "np.random.seed(test_seed)\n",
    "for i in range(n):#change all random states for the transition matrices\n",
    "    config_ood[\"data_params\"]['transition_paramss'][i][\"random_state\"]=np.random.randint(1000000)\n",
    "dl_OOD=utils.get_dataloader(config_ood)"
   ]
  },
  {
   "cell_type": "markdown",
   "metadata": {},
   "source": [
    "### Get some example data"
   ]
  },
  {
   "cell_type": "code",
   "execution_count": 76,
   "metadata": {},
   "outputs": [
    {
     "data": {
      "text/plain": [
       "(torch.Size([128, 512]), torch.Size([128, 512]))"
      ]
     },
     "execution_count": 76,
     "metadata": {},
     "output_type": "execute_result"
    }
   ],
   "source": [
    "x_ID=next(iter(dl_ID))[0]#returns ((batch_size,seq_len),None) #None is for the loss mask, which we don't use, so select [0]\n",
    "x_OOD=next(iter(dl_OOD))[0]\n",
    "x_ID,x_OOD=x_ID.to(device),x_OOD.to(device)\n",
    "x_ID.shape,x_OOD.shape"
   ]
  },
  {
   "cell_type": "markdown",
   "metadata": {},
   "source": [
    "### Now load the model"
   ]
  },
  {
   "cell_type": "code",
   "execution_count": 77,
   "metadata": {},
   "outputs": [
    {
     "data": {
      "text/plain": [
       "dict_keys([49, 58, 68, 80, 93, 109, 128, 149, 175, 204, 239, 280, 327, 383, 448, 524, 613, 717, 839, 981, 1147, 1342, 1570, 1836, 2148, 2512, 2939, 3437, 4020, 4702, 5500, 6433, 7525, 8801, 10294, 12040, 14083, 16472, 19266, 22534, 26357, 30828, 36057, 42174, 49328, 57696, 67482, 78930, 92318, 107978])"
      ]
     },
     "execution_count": 77,
     "metadata": {},
     "output_type": "execute_result"
    }
   ],
   "source": [
    "#Model\n",
    "model=utils.get_model(config,device=device)\n",
    "ckpt_paths=utils.get_ckpt_paths(exp_dir)\n",
    "ckpt_paths.keys()"
   ]
  },
  {
   "cell_type": "code",
   "execution_count": 84,
   "metadata": {},
   "outputs": [
    {
     "name": "stderr",
     "output_type": "stream",
     "text": [
      "100%|██████████| 50/50 [00:01<00:00, 39.13it/s]\n"
     ]
    }
   ],
   "source": [
    "steps=[]\n",
    "loss_IDs=[]\n",
    "loss_OODs=[]\n",
    "for step,ckpt_path in tqdm.tqdm(ckpt_paths.items(),total=len(ckpt_paths)):\n",
    "    model.load_state_dict_nc(torch.load(ckpt_path,weights_only=False))#nc means no_compile, just avoiding a small conflcit between weight names\n",
    "    model.eval()\n",
    "    with torch.no_grad():\n",
    "        loss_ID=model.get_loss(x_ID)\n",
    "        loss_OOD=model.get_loss(x_OOD)\n",
    "    steps.append(step)\n",
    "    loss_IDs.append(loss_ID.item())\n",
    "    loss_OODs.append(loss_OOD.item())\n",
    "loss_IDs=np.array(loss_IDs)\n",
    "loss_OODs=np.array(loss_OODs)"
   ]
  },
  {
   "cell_type": "code",
   "execution_count": 88,
   "metadata": {},
   "outputs": [
    {
     "data": {
      "text/plain": [
       "<matplotlib.legend.Legend at 0x14f05a36d090>"
      ]
     },
     "execution_count": 88,
     "metadata": {},
     "output_type": "execute_result"
    },
    {
     "data": {
      "image/png": "[encoded data removed]",
      "text/plain": [
       "<Figure size 640x480 with 1 Axes>"
      ]
     },
     "metadata": {},
     "output_type": "display_data"
    }
   ],
   "source": [
    "plt.plot(steps,loss_IDs,label=\"ID\")\n",
    "plt.plot(steps,loss_OODs,label=\"OOD\")\n",
    "plt.ylabel(\"Loss\")\n",
    "plt.xlabel(\"Steps\")\n",
    "plt.xscale(\"log\")\n",
    "plt.legend()"
   ]
  },
  {
   "cell_type": "code",
   "execution_count": null,
   "metadata": {},
   "outputs": [],
   "source": [
    "### A few points:\n"
   ]
  },
  {
   "cell_type": "code",
   "execution_count": null,
   "metadata": {},
   "outputs": [],
   "source": []
  },
  {
   "cell_type": "code",
   "execution_count": null,
   "metadata": {},
   "outputs": [],
   "source": []
  },
  {
   "cell_type": "code",
   "execution_count": null,
   "metadata": {},
   "outputs": [],
   "source": []
  },
  {
   "cell_type": "code",
   "execution_count": null,
   "metadata": {},
   "outputs": [],
   "source": []
  },
  {
   "cell_type": "code",
   "execution_count": 39,
   "metadata": {},
   "outputs": [
    {
     "data": {
      "text/plain": [
       "Transformer(\n",
       "  (transformer): Transformer(\n",
       "    (transformer): ModuleDict(\n",
       "      (wte): Embedding(676, 64)\n",
       "      (wpe): None\n",
       "      (drop): Dropout(p=0.0, inplace=False)\n",
       "      (h): ModuleList(\n",
       "        (0-1): 2 x TransformerBlock(\n",
       "          (ln_1): LayerNorm()\n",
       "          (attn): SelfAttentionBlock(\n",
       "            (c_attn): Linear(in_features=64, out_features=192, bias=True)\n",
       "            (c_proj): Linear(in_features=64, out_features=64, bias=True)\n",
       "            (attn_dropout): Dropout(p=0.0, inplace=False)\n",
       "            (resid_dropout): Dropout(p=0.0, inplace=False)\n",
       "          )\n",
       "          (ln_2): LayerNorm()\n",
       "          (mlp): MLPBlock(\n",
       "            (c_fc): Linear(in_features=64, out_features=256, bias=True)\n",
       "            (gelu): GELU(approximate='none')\n",
       "            (c_proj): Linear(in_features=256, out_features=64, bias=True)\n",
       "            (dropout): Dropout(p=0.0, inplace=False)\n",
       "          )\n",
       "        )\n",
       "      )\n",
       "      (ln_f): LayerNorm()\n",
       "    )\n",
       "    (lm_head): Linear(in_features=64, out_features=676, bias=False)\n",
       "  )\n",
       ")"
      ]
     },
     "execution_count": 39,
     "metadata": {},
     "output_type": "execute_result"
    }
   ],
   "source": [
    "model"
   ]
  },
  {
   "cell_type": "code",
   "execution_count": 42,
   "metadata": {},
   "outputs": [
    {
     "data": {
      "text/plain": [
       "{49: '../data/markov_mixture/final_v1/default_long_rope_only/default_long_rope_only/n=64/checkpoints/ckpt_step=49.pth',\n",
       " 58: '../data/markov_mixture/final_v1/default_long_rope_only/default_long_rope_only/n=64/checkpoints/ckpt_step=58.pth',\n",
       " 68: '../data/markov_mixture/final_v1/default_long_rope_only/default_long_rope_only/n=64/checkpoints/ckpt_step=68.pth',\n",
       " 80: '../data/markov_mixture/final_v1/default_long_rope_only/default_long_rope_only/n=64/checkpoints/ckpt_step=80.pth',\n",
       " 93: '../data/markov_mixture/final_v1/default_long_rope_only/default_long_rope_only/n=64/checkpoints/ckpt_step=93.pth',\n",
       " 109: '../data/markov_mixture/final_v1/default_long_rope_only/default_long_rope_only/n=64/checkpoints/ckpt_step=109.pth',\n",
       " 128: '../data/markov_mixture/final_v1/default_long_rope_only/default_long_rope_only/n=64/checkpoints/ckpt_step=128.pth',\n",
       " 149: '../data/markov_mixture/final_v1/default_long_rope_only/default_long_rope_only/n=64/checkpoints/ckpt_step=149.pth',\n",
       " 175: '../data/markov_mixture/final_v1/default_long_rope_only/default_long_rope_only/n=64/checkpoints/ckpt_step=175.pth',\n",
       " 204: '../data/markov_mixture/final_v1/default_long_rope_only/default_long_rope_only/n=64/checkpoints/ckpt_step=204.pth',\n",
       " 239: '../data/markov_mixture/final_v1/default_long_rope_only/default_long_rope_only/n=64/checkpoints/ckpt_step=239.pth',\n",
       " 280: '../data/markov_mixture/final_v1/default_long_rope_only/default_long_rope_only/n=64/checkpoints/ckpt_step=280.pth',\n",
       " 327: '../data/markov_mixture/final_v1/default_long_rope_only/default_long_rope_only/n=64/checkpoints/ckpt_step=327.pth',\n",
       " 383: '../data/markov_mixture/final_v1/default_long_rope_only/default_long_rope_only/n=64/checkpoints/ckpt_step=383.pth',\n",
       " 448: '../data/markov_mixture/final_v1/default_long_rope_only/default_long_rope_only/n=64/checkpoints/ckpt_step=448.pth',\n",
       " 524: '../data/markov_mixture/final_v1/default_long_rope_only/default_long_rope_only/n=64/checkpoints/ckpt_step=524.pth',\n",
       " 613: '../data/markov_mixture/final_v1/default_long_rope_only/default_long_rope_only/n=64/checkpoints/ckpt_step=613.pth',\n",
       " 717: '../data/markov_mixture/final_v1/default_long_rope_only/default_long_rope_only/n=64/checkpoints/ckpt_step=717.pth',\n",
       " 839: '../data/markov_mixture/final_v1/default_long_rope_only/default_long_rope_only/n=64/checkpoints/ckpt_step=839.pth',\n",
       " 981: '../data/markov_mixture/final_v1/default_long_rope_only/default_long_rope_only/n=64/checkpoints/ckpt_step=981.pth',\n",
       " 1147: '../data/markov_mixture/final_v1/default_long_rope_only/default_long_rope_only/n=64/checkpoints/ckpt_step=1147.pth',\n",
       " 1342: '../data/markov_mixture/final_v1/default_long_rope_only/default_long_rope_only/n=64/checkpoints/ckpt_step=1342.pth',\n",
       " 1570: '../data/markov_mixture/final_v1/default_long_rope_only/default_long_rope_only/n=64/checkpoints/ckpt_step=1570.pth',\n",
       " 1836: '../data/markov_mixture/final_v1/default_long_rope_only/default_long_rope_only/n=64/checkpoints/ckpt_step=1836.pth',\n",
       " 2148: '../data/markov_mixture/final_v1/default_long_rope_only/default_long_rope_only/n=64/checkpoints/ckpt_step=2148.pth',\n",
       " 2512: '../data/markov_mixture/final_v1/default_long_rope_only/default_long_rope_only/n=64/checkpoints/ckpt_step=2512.pth',\n",
       " 2939: '../data/markov_mixture/final_v1/default_long_rope_only/default_long_rope_only/n=64/checkpoints/ckpt_step=2939.pth',\n",
       " 3437: '../data/markov_mixture/final_v1/default_long_rope_only/default_long_rope_only/n=64/checkpoints/ckpt_step=3437.pth',\n",
       " 4020: '../data/markov_mixture/final_v1/default_long_rope_only/default_long_rope_only/n=64/checkpoints/ckpt_step=4020.pth',\n",
       " 4702: '../data/markov_mixture/final_v1/default_long_rope_only/default_long_rope_only/n=64/checkpoints/ckpt_step=4702.pth',\n",
       " 5500: '../data/markov_mixture/final_v1/default_long_rope_only/default_long_rope_only/n=64/checkpoints/ckpt_step=5500.pth',\n",
       " 6433: '../data/markov_mixture/final_v1/default_long_rope_only/default_long_rope_only/n=64/checkpoints/ckpt_step=6433.pth',\n",
       " 7525: '../data/markov_mixture/final_v1/default_long_rope_only/default_long_rope_only/n=64/checkpoints/ckpt_step=7525.pth',\n",
       " 8801: '../data/markov_mixture/final_v1/default_long_rope_only/default_long_rope_only/n=64/checkpoints/ckpt_step=8801.pth',\n",
       " 10294: '../data/markov_mixture/final_v1/default_long_rope_only/default_long_rope_only/n=64/checkpoints/ckpt_step=10294.pth',\n",
       " 12040: '../data/markov_mixture/final_v1/default_long_rope_only/default_long_rope_only/n=64/checkpoints/ckpt_step=12040.pth',\n",
       " 14083: '../data/markov_mixture/final_v1/default_long_rope_only/default_long_rope_only/n=64/checkpoints/ckpt_step=14083.pth',\n",
       " 16472: '../data/markov_mixture/final_v1/default_long_rope_only/default_long_rope_only/n=64/checkpoints/ckpt_step=16472.pth',\n",
       " 19266: '../data/markov_mixture/final_v1/default_long_rope_only/default_long_rope_only/n=64/checkpoints/ckpt_step=19266.pth',\n",
       " 22534: '../data/markov_mixture/final_v1/default_long_rope_only/default_long_rope_only/n=64/checkpoints/ckpt_step=22534.pth',\n",
       " 26357: '../data/markov_mixture/final_v1/default_long_rope_only/default_long_rope_only/n=64/checkpoints/ckpt_step=26357.pth',\n",
       " 30828: '../data/markov_mixture/final_v1/default_long_rope_only/default_long_rope_only/n=64/checkpoints/ckpt_step=30828.pth',\n",
       " 36057: '../data/markov_mixture/final_v1/default_long_rope_only/default_long_rope_only/n=64/checkpoints/ckpt_step=36057.pth',\n",
       " 42174: '../data/markov_mixture/final_v1/default_long_rope_only/default_long_rope_only/n=64/checkpoints/ckpt_step=42174.pth',\n",
       " 49328: '../data/markov_mixture/final_v1/default_long_rope_only/default_long_rope_only/n=64/checkpoints/ckpt_step=49328.pth',\n",
       " 57696: '../data/markov_mixture/final_v1/default_long_rope_only/default_long_rope_only/n=64/checkpoints/ckpt_step=57696.pth',\n",
       " 67482: '../data/markov_mixture/final_v1/default_long_rope_only/default_long_rope_only/n=64/checkpoints/ckpt_step=67482.pth',\n",
       " 78930: '../data/markov_mixture/final_v1/default_long_rope_only/default_long_rope_only/n=64/checkpoints/ckpt_step=78930.pth',\n",
       " 92318: '../data/markov_mixture/final_v1/default_long_rope_only/default_long_rope_only/n=64/checkpoints/ckpt_step=92318.pth',\n",
       " 107978: '../data/markov_mixture/final_v1/default_long_rope_only/default_long_rope_only/n=64/checkpoints/ckpt_step=107978.pth'}"
      ]
     },
     "execution_count": 42,
     "metadata": {},
     "output_type": "execute_result"
    }
   ],
   "source": [
    "ckpts=utils.get_ckpt_paths(exp_dir)\n",
    "ckpts"
   ]
  },
  {
   "cell_type": "code",
   "execution_count": null,
   "metadata": {},
   "outputs": [],
   "source": []
  },
  {
   "cell_type": "code",
   "execution_count": null,
   "metadata": {},
   "outputs": [],
   "source": []
  },
  {
   "cell_type": "code",
   "execution_count": null,
   "metadata": {},
   "outputs": [],
   "source": []
  },
  {
   "cell_type": "code",
   "execution_count": null,
   "metadata": {},
   "outputs": [],
   "source": []
  }
 ],
 "metadata": {
  "kernelspec": {
   "display_name": "venv1",
   "language": "python",
   "name": "python3"
  },
  "language_info": {
   "codemirror_mode": {
    "name": "ipython",
    "version": 3
   },
   "file_extension": ".py",
   "mimetype": "text/x-python",
   "name": "python",
   "nbconvert_exporter": "python",
   "pygments_lexer": "ipython3",
   "version": "3.10.9"
  }
 },
 "nbformat": 4,
 "nbformat_minor": 2
}
